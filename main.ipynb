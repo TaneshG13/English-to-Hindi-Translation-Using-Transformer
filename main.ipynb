{
 "cells": [
  {
   "cell_type": "code",
   "execution_count": 1,
   "id": "ec81528d",
   "metadata": {},
   "outputs": [],
   "source": [
    "import pandas as pd\n",
    "import matplotlib.pyplot as plt\n",
    "import seaborn as sns"
   ]
  },
  {
   "cell_type": "code",
   "execution_count": 2,
   "id": "2efa3be0",
   "metadata": {},
   "outputs": [],
   "source": [
    "# Load the TSV dataset\n",
    "df = pd.read_csv('English-Hindi.tsv', sep='\\t', header=None, names=[\"id1\", \"en\", \"id2\", \"hi\"])"
   ]
  },
  {
   "cell_type": "code",
   "execution_count": 3,
   "id": "e5da9ecd",
   "metadata": {},
   "outputs": [
    {
     "data": {
      "text/html": [
       "<div>\n",
       "<style scoped>\n",
       "    .dataframe tbody tr th:only-of-type {\n",
       "        vertical-align: middle;\n",
       "    }\n",
       "\n",
       "    .dataframe tbody tr th {\n",
       "        vertical-align: top;\n",
       "    }\n",
       "\n",
       "    .dataframe thead th {\n",
       "        text-align: right;\n",
       "    }\n",
       "</style>\n",
       "<table border=\"1\" class=\"dataframe\">\n",
       "  <thead>\n",
       "    <tr style=\"text-align: right;\">\n",
       "      <th></th>\n",
       "      <th>id1</th>\n",
       "      <th>en</th>\n",
       "      <th>id2</th>\n",
       "      <th>hi</th>\n",
       "    </tr>\n",
       "  </thead>\n",
       "  <tbody>\n",
       "    <tr>\n",
       "      <th>3962</th>\n",
       "      <td>453893</td>\n",
       "      <td>Don't open your book.</td>\n",
       "      <td>491015</td>\n",
       "      <td>अपनी किताब मत खोलो।</td>\n",
       "    </tr>\n",
       "    <tr>\n",
       "      <th>10116</th>\n",
       "      <td>4319732</td>\n",
       "      <td>The next day, I bought a jackfruit.</td>\n",
       "      <td>4319700</td>\n",
       "      <td>अगले दिन मैंने एक कटहल खरीद लिया।</td>\n",
       "    </tr>\n",
       "    <tr>\n",
       "      <th>6487</th>\n",
       "      <td>3066298</td>\n",
       "      <td>You can't read a story if you don't understand.</td>\n",
       "      <td>3066310</td>\n",
       "      <td>अगर तुम समजोगे नहीं, तो तुम वार्ता पढ़ नहीं सकते</td>\n",
       "    </tr>\n",
       "    <tr>\n",
       "      <th>1699</th>\n",
       "      <td>242628</td>\n",
       "      <td>His behavior is very odd today.</td>\n",
       "      <td>514149</td>\n",
       "      <td>उसका बर्ताव आज बहुत अजीब है।</td>\n",
       "    </tr>\n",
       "    <tr>\n",
       "      <th>3390</th>\n",
       "      <td>317019</td>\n",
       "      <td>She is two years younger than me.</td>\n",
       "      <td>484047</td>\n",
       "      <td>वह मुझसे दो साल छोटी है।</td>\n",
       "    </tr>\n",
       "  </tbody>\n",
       "</table>\n",
       "</div>"
      ],
      "text/plain": [
       "           id1                                               en      id2  \\\n",
       "3962    453893                            Don't open your book.   491015   \n",
       "10116  4319732              The next day, I bought a jackfruit.  4319700   \n",
       "6487   3066298  You can't read a story if you don't understand.  3066310   \n",
       "1699    242628                  His behavior is very odd today.   514149   \n",
       "3390    317019                She is two years younger than me.   484047   \n",
       "\n",
       "                                                     hi  \n",
       "3962                                अपनी किताब मत खोलो।  \n",
       "10116                 अगले दिन मैंने एक कटहल खरीद लिया।  \n",
       "6487   अगर तुम समजोगे नहीं, तो तुम वार्ता पढ़ नहीं सकते  \n",
       "1699                       उसका बर्ताव आज बहुत अजीब है।  \n",
       "3390                           वह मुझसे दो साल छोटी है।  "
      ]
     },
     "execution_count": 3,
     "metadata": {},
     "output_type": "execute_result"
    }
   ],
   "source": [
    "# Show a sample\n",
    "df.sample(5)"
   ]
  },
  {
   "cell_type": "code",
   "execution_count": 4,
   "id": "08511ddb",
   "metadata": {},
   "outputs": [],
   "source": [
    "# Keep only the English and Hindi columns\n",
    "df = df[[\"en\", \"hi\"]]"
   ]
  },
  {
   "cell_type": "code",
   "execution_count": 5,
   "id": "3f914b27",
   "metadata": {},
   "outputs": [],
   "source": [
    "# Drop any rows with missing data\n",
    "df.dropna(inplace=True)"
   ]
  },
  {
   "cell_type": "code",
   "execution_count": 6,
   "id": "1c8a1156",
   "metadata": {},
   "outputs": [],
   "source": [
    "# Reset index\n",
    "df.reset_index(drop=True, inplace=True)"
   ]
  },
  {
   "cell_type": "code",
   "execution_count": 7,
   "id": "f6139ad8",
   "metadata": {},
   "outputs": [
    {
     "data": {
      "text/html": [
       "<div>\n",
       "<style scoped>\n",
       "    .dataframe tbody tr th:only-of-type {\n",
       "        vertical-align: middle;\n",
       "    }\n",
       "\n",
       "    .dataframe tbody tr th {\n",
       "        vertical-align: top;\n",
       "    }\n",
       "\n",
       "    .dataframe thead th {\n",
       "        text-align: right;\n",
       "    }\n",
       "</style>\n",
       "<table border=\"1\" class=\"dataframe\">\n",
       "  <thead>\n",
       "    <tr style=\"text-align: right;\">\n",
       "      <th></th>\n",
       "      <th>en</th>\n",
       "      <th>hi</th>\n",
       "    </tr>\n",
       "  </thead>\n",
       "  <tbody>\n",
       "    <tr>\n",
       "      <th>0</th>\n",
       "      <td>Muiriel is 20 now.</td>\n",
       "      <td>म्यूरियल अब बीस साल की हो गई है।</td>\n",
       "    </tr>\n",
       "    <tr>\n",
       "      <th>1</th>\n",
       "      <td>Muiriel is 20 now.</td>\n",
       "      <td>म्यूरियल अब बीस साल की है।</td>\n",
       "    </tr>\n",
       "    <tr>\n",
       "      <th>2</th>\n",
       "      <td>Education in this world disappoints me.</td>\n",
       "      <td>मैं इस दुनिया में शिक्षा पर बहुत निराश हूँ।</td>\n",
       "    </tr>\n",
       "    <tr>\n",
       "      <th>3</th>\n",
       "      <td>That won't happen.</td>\n",
       "      <td>वैसा नहीं होगा।</td>\n",
       "    </tr>\n",
       "    <tr>\n",
       "      <th>4</th>\n",
       "      <td>I miss you.</td>\n",
       "      <td>मुझें तुम्हारी याद आ रही है।</td>\n",
       "    </tr>\n",
       "  </tbody>\n",
       "</table>\n",
       "</div>"
      ],
      "text/plain": [
       "                                        en  \\\n",
       "0                       Muiriel is 20 now.   \n",
       "1                       Muiriel is 20 now.   \n",
       "2  Education in this world disappoints me.   \n",
       "3                       That won't happen.   \n",
       "4                              I miss you.   \n",
       "\n",
       "                                            hi  \n",
       "0             म्यूरियल अब बीस साल की हो गई है।  \n",
       "1                   म्यूरियल अब बीस साल की है।  \n",
       "2  मैं इस दुनिया में शिक्षा पर बहुत निराश हूँ।  \n",
       "3                              वैसा नहीं होगा।  \n",
       "4                 मुझें तुम्हारी याद आ रही है।  "
      ]
     },
     "execution_count": 7,
     "metadata": {},
     "output_type": "execute_result"
    }
   ],
   "source": [
    "# Preview cleaned data\n",
    "df.head()"
   ]
  },
  {
   "cell_type": "code",
   "execution_count": 8,
   "id": "0b3edfa0",
   "metadata": {},
   "outputs": [
    {
     "name": "stdout",
     "output_type": "stream",
     "text": [
      "Total pairs: 13186\n"
     ]
    }
   ],
   "source": [
    "# Number of sentence pairs\n",
    "print(\"Total pairs:\", len(df))"
   ]
  },
  {
   "cell_type": "code",
   "execution_count": 9,
   "id": "87cc8f8c",
   "metadata": {},
   "outputs": [],
   "source": [
    "# Sentence length distributions\n",
    "df[\"en_len\"] = df[\"en\"].apply(lambda x: len(x.split()))\n",
    "df[\"hi_len\"] = df[\"hi\"].apply(lambda x: len(x.split()))"
   ]
  },
  {
   "cell_type": "code",
   "execution_count": 10,
   "id": "ea1663bc",
   "metadata": {},
   "outputs": [
    {
     "name": "stdout",
     "output_type": "stream",
     "text": [
      "\n",
      "English Sentence Length Stats:\n",
      "count    13186.000000\n",
      "mean         5.607614\n",
      "std          2.676713\n",
      "min          1.000000\n",
      "25%          4.000000\n",
      "50%          5.000000\n",
      "75%          7.000000\n",
      "max         53.000000\n",
      "Name: en_len, dtype: float64\n"
     ]
    }
   ],
   "source": [
    "print(\"\\nEnglish Sentence Length Stats:\")\n",
    "print(df[\"en_len\"].describe())"
   ]
  },
  {
   "cell_type": "code",
   "execution_count": 11,
   "id": "6195ec39",
   "metadata": {},
   "outputs": [
    {
     "name": "stdout",
     "output_type": "stream",
     "text": [
      "\n",
      "Hindi Sentence Length Stats:\n",
      "count    13186.000000\n",
      "mean         6.277719\n",
      "std          2.999823\n",
      "min          1.000000\n",
      "25%          4.000000\n",
      "50%          6.000000\n",
      "75%          8.000000\n",
      "max         57.000000\n",
      "Name: hi_len, dtype: float64\n"
     ]
    }
   ],
   "source": [
    "print(\"\\nHindi Sentence Length Stats:\")\n",
    "print(df[\"hi_len\"].describe())"
   ]
  },
  {
   "cell_type": "code",
   "execution_count": 12,
   "id": "bc4c646c",
   "metadata": {},
   "outputs": [
    {
     "data": {
      "image/png": "[encoded data removed]",
      "text/plain": [
       "<Figure size 1200x500 with 2 Axes>"
      ]
     },
     "metadata": {},
     "output_type": "display_data"
    }
   ],
   "source": [
    "plt.figure(figsize=(12, 5))\n",
    "\n",
    "# English\n",
    "plt.subplot(1, 2, 1)\n",
    "sns.histplot(df[\"en_len\"], bins=30, kde=True, color='skyblue')\n",
    "plt.title(\"English Sentence Lengths\")\n",
    "plt.xlabel(\"Words\")\n",
    "\n",
    "# Hindi\n",
    "plt.subplot(1, 2, 2)\n",
    "sns.histplot(df[\"hi_len\"], bins=30, kde=True, color='salmon')\n",
    "plt.title(\"Hindi Sentence Lengths\")\n",
    "plt.xlabel(\"Words\")\n",
    "\n",
    "plt.tight_layout()\n",
    "plt.show()"
   ]
  },
  {
   "cell_type": "code",
   "execution_count": 13,
   "id": "e8532d6d",
   "metadata": {},
   "outputs": [
    {
     "name": "stdout",
     "output_type": "stream",
     "text": [
      "EN: Muiriel is 20 now.\n",
      "HI: म्यूरियल अब बीस साल की हो गई है।\n",
      "---\n",
      "EN: Muiriel is 20 now.\n",
      "HI: म्यूरियल अब बीस साल की है।\n",
      "---\n",
      "EN: Education in this world disappoints me.\n",
      "HI: मैं इस दुनिया में शिक्षा पर बहुत निराश हूँ।\n",
      "---\n",
      "EN: That won't happen.\n",
      "HI: वैसा नहीं होगा।\n",
      "---\n",
      "EN: I miss you.\n",
      "HI: मुझें तुम्हारी याद आ रही है।\n",
      "---\n"
     ]
    }
   ],
   "source": [
    "for i in range(5):\n",
    "    print(f\"EN: {df.loc[i, 'en']}\")\n",
    "    print(f\"HI: {df.loc[i, 'hi']}\")\n",
    "    print(\"---\")"
   ]
  },
  {
   "cell_type": "code",
   "execution_count": 14,
   "id": "a49c949b",
   "metadata": {},
   "outputs": [],
   "source": [
    "def tokenize(sentence):\n",
    "    return sentence.lower().strip().split()"
   ]
  },
  {
   "cell_type": "code",
   "execution_count": 15,
   "id": "6fc95cb1",
   "metadata": {},
   "outputs": [],
   "source": [
    "from collections import Counter\n",
    "import itertools"
   ]
  },
  {
   "cell_type": "code",
   "execution_count": 16,
   "id": "cfff8d59",
   "metadata": {},
   "outputs": [],
   "source": [
    "class Vocabulary:\n",
    "    def __init__(self, freq_threshold=2):\n",
    "        self.freq_threshold = freq_threshold\n",
    "        self.itos = {0: \"<pad>\", 1: \"<sos>\", 2: \"<eos>\", 3: \"<unk>\"}\n",
    "        self.stoi = {\"<pad>\": 0, \"<sos>\": 1, \"<eos>\": 2, \"<unk>\": 3}\n",
    "        self.idx = 4\n",
    "\n",
    "    def build_vocab(self, sentence_list):\n",
    "        frequencies = Counter()\n",
    "        for sentence in sentence_list:\n",
    "            for word in self.tokenize(sentence):\n",
    "                frequencies[word] += 1\n",
    "\n",
    "        for word, freq in frequencies.items():\n",
    "            if freq >= self.freq_threshold:\n",
    "                self.stoi[word] = self.idx\n",
    "                self.itos[self.idx] = word\n",
    "                self.idx += 1\n",
    "\n",
    "    def tokenize(self, sentence):\n",
    "        return sentence.lower().strip().split()\n",
    "\n",
    "    def numericalize(self, sentence):\n",
    "        tokens = self.tokenize(sentence)\n",
    "        return [self.stoi.get(token, self.stoi[\"<unk>\"]) for token in tokens]\n",
    "\n",
    "    def __len__(self):\n",
    "        return len(self.stoi)\n",
    "\n",
    "    def __getitem__(self, token):\n",
    "        return self.stoi.get(token, self.stoi[\"<unk>\"])"
   ]
  },
  {
   "cell_type": "code",
   "execution_count": 17,
   "id": "f525178f",
   "metadata": {},
   "outputs": [],
   "source": [
    "# Create vocab instances\n",
    "en_vocab = Vocabulary(freq_threshold=2)\n",
    "hi_vocab = Vocabulary(freq_threshold=2)"
   ]
  },
  {
   "cell_type": "code",
   "execution_count": 18,
   "id": "cda394d6",
   "metadata": {},
   "outputs": [],
   "source": [
    "# Build vocabs\n",
    "en_vocab.build_vocab(df[\"en\"].tolist())\n",
    "hi_vocab.build_vocab(df[\"hi\"].tolist())"
   ]
  },
  {
   "cell_type": "code",
   "execution_count": 19,
   "id": "b9ca0e6f",
   "metadata": {},
   "outputs": [
    {
     "name": "stdout",
     "output_type": "stream",
     "text": [
      "English vocab size: 4117\n",
      "Hindi vocab size: 4044\n"
     ]
    }
   ],
   "source": [
    "print(f\"English vocab size: {len(en_vocab.stoi)}\")\n",
    "print(f\"Hindi vocab size: {len(hi_vocab.stoi)}\")"
   ]
  },
  {
   "cell_type": "code",
   "execution_count": 20,
   "id": "e8b531bc",
   "metadata": {},
   "outputs": [],
   "source": [
    "def encode_sentence(sentence, vocab, max_len=50):\n",
    "    tokens = [vocab.stoi[\"<sos>\"]] + vocab.numericalize(sentence)[:max_len-2] + [vocab.stoi[\"<eos>\"]]\n",
    "    return tokens + [vocab.stoi[\"<pad>\"]] * (max_len - len(tokens))"
   ]
  },
  {
   "cell_type": "code",
   "execution_count": 21,
   "id": "55bd151f",
   "metadata": {},
   "outputs": [],
   "source": [
    "sample_en = \"That won't happen.\"\n",
    "sample_hi = \"वैसा नहीं होगा।\""
   ]
  },
  {
   "cell_type": "code",
   "execution_count": 22,
   "id": "e6cd0cef",
   "metadata": {},
   "outputs": [
    {
     "name": "stdout",
     "output_type": "stream",
     "text": [
      "Encoded English: [1, 13, 14, 15, 2, 0, 0, 0, 0, 0, 0, 0, 0, 0, 0, 0, 0, 0, 0, 0, 0, 0, 0, 0, 0, 0, 0, 0, 0, 0, 0, 0, 0, 0, 0, 0, 0, 0, 0, 0, 0, 0, 0, 0, 0, 0, 0, 0, 0, 0]\n",
      "Encoded Hindi: [1, 21, 22, 23, 2, 0, 0, 0, 0, 0, 0, 0, 0, 0, 0, 0, 0, 0, 0, 0, 0, 0, 0, 0, 0, 0, 0, 0, 0, 0, 0, 0, 0, 0, 0, 0, 0, 0, 0, 0, 0, 0, 0, 0, 0, 0, 0, 0, 0, 0]\n"
     ]
    }
   ],
   "source": [
    "print(\"Encoded English:\", encode_sentence(sample_en, en_vocab))\n",
    "print(\"Encoded Hindi:\", encode_sentence(sample_hi, hi_vocab))"
   ]
  },
  {
   "cell_type": "code",
   "execution_count": 23,
   "id": "41aaf057",
   "metadata": {},
   "outputs": [],
   "source": [
    "import torch\n",
    "import torch.nn as nn\n",
    "import math"
   ]
  },
  {
   "cell_type": "code",
   "execution_count": 24,
   "id": "7beb3572",
   "metadata": {},
   "outputs": [],
   "source": [
    "class PositionalEncoding(nn.Module):\n",
    "    def __init__(self, d_model, max_len=5000):\n",
    "        super().__init__()\n",
    "\n",
    "        pe = torch.zeros(max_len, d_model)\n",
    "        position = torch.arange(0, max_len).unsqueeze(1).float()\n",
    "        div_term = torch.exp(torch.arange(0, d_model, 2).float() * (-math.log(10000.0) / d_model))\n",
    "\n",
    "        pe[:, 0::2] = torch.sin(position * div_term)\n",
    "        pe[:, 1::2] = torch.cos(position * div_term)\n",
    "\n",
    "        pe = pe.unsqueeze(0)  # (1, max_len, d_model)\n",
    "        self.register_buffer('pe', pe)\n",
    "\n",
    "    def forward(self, x):\n",
    "        return x + self.pe[:, :x.size(1)]"
   ]
  },
  {
   "cell_type": "code",
   "execution_count": 25,
   "id": "ca79ccbc",
   "metadata": {},
   "outputs": [],
   "source": [
    "def scaled_dot_product(q, k, v, mask=None):\n",
    "    d_k = q.size(-1)\n",
    "    scores = torch.matmul(q, k.transpose(-2, -1)) / math.sqrt(d_k)\n",
    "\n",
    "    if mask is not None:\n",
    "        scores = scores.masked_fill(mask == 0, -1e9)\n",
    "\n",
    "    attention = torch.softmax(scores, dim=-1)\n",
    "    return torch.matmul(attention, v), attention"
   ]
  },
  {
   "cell_type": "code",
   "execution_count": 26,
   "id": "e8757814",
   "metadata": {},
   "outputs": [],
   "source": [
    "class MultiHeadAttention(nn.Module):\n",
    "    def __init__(self, d_model, num_heads):\n",
    "        super(MultiHeadAttention, self).__init__()\n",
    "        assert d_model % num_heads == 0, \"d_model must be divisible by num_heads\"\n",
    "\n",
    "        self.d_model = d_model\n",
    "        self.num_heads = num_heads\n",
    "        self.d_k = d_model // num_heads\n",
    "\n",
    "        self.query_linear = nn.Linear(d_model, d_model)\n",
    "        self.key_linear = nn.Linear(d_model, d_model)\n",
    "        self.value_linear = nn.Linear(d_model, d_model)\n",
    "\n",
    "        self.out_linear = nn.Linear(d_model, d_model)\n",
    "        self.dropout = nn.Dropout(0.1)\n",
    "\n",
    "    def forward(self, q, k, v, mask=None):\n",
    "        batch_size = q.size(0)\n",
    "\n",
    "        # Project Q, K, V\n",
    "        Q = self.query_linear(q)  # [B, T, D]\n",
    "        K = self.key_linear(k)\n",
    "        V = self.value_linear(v)\n",
    "\n",
    "        # Reshape and transpose: [B, T, D] -> [B, H, T, Dk]\n",
    "        Q = Q.view(batch_size, -1, self.num_heads, self.d_k).transpose(1, 2)  # [B, H, T, Dk]\n",
    "        K = K.view(batch_size, -1, self.num_heads, self.d_k).transpose(1, 2)\n",
    "        V = V.view(batch_size, -1, self.num_heads, self.d_k).transpose(1, 2)\n",
    "\n",
    "        # Apply scaled dot-product attention\n",
    "        scores = torch.matmul(Q, K.transpose(-2, -1)) / (self.d_k ** 0.5)\n",
    "\n",
    "        if mask is not None:\n",
    "            scores = scores.masked_fill(mask == 0, -1e9)\n",
    "\n",
    "        attention_weights = torch.softmax(scores, dim=-1)\n",
    "        attention_output = torch.matmul(self.dropout(attention_weights), V)  # [B, H, T, Dk]\n",
    "\n",
    "        # Concatenate heads: [B, H, T, Dk] -> [B, T, H * Dk]\n",
    "        attention_output = attention_output.transpose(1, 2).contiguous() \\\n",
    "                                            .view(batch_size, -1, self.d_model)\n",
    "\n",
    "        return self.out_linear(attention_output)"
   ]
  },
  {
   "cell_type": "code",
   "execution_count": 27,
   "id": "19f255d7",
   "metadata": {},
   "outputs": [],
   "source": [
    "class FeedForward(nn.Module):\n",
    "    def __init__(self, d_model, d_ff=2048, dropout=0.1):\n",
    "        super().__init__()\n",
    "        self.linear1 = nn.Linear(d_model, d_ff)\n",
    "        self.linear2 = nn.Linear(d_ff, d_model)\n",
    "        self.dropout = nn.Dropout(dropout)\n",
    "        self.relu = nn.ReLU()\n",
    "\n",
    "    def forward(self, x):\n",
    "        return self.linear2(self.dropout(self.relu(self.linear1(x))))"
   ]
  },
  {
   "cell_type": "code",
   "execution_count": 28,
   "id": "8bc117c6",
   "metadata": {},
   "outputs": [],
   "source": [
    "class LayerNorm(nn.Module):\n",
    "    def __init__(self, d_model, eps=1e-6):\n",
    "        super().__init__()\n",
    "        self.gamma = nn.Parameter(torch.ones(d_model))\n",
    "        self.beta = nn.Parameter(torch.zeros(d_model))\n",
    "        self.eps = eps\n",
    "\n",
    "    def forward(self, x):\n",
    "        mean = x.mean(-1, keepdim=True)\n",
    "        std = x.std(-1, keepdim=True)\n",
    "        return self.gamma * (x - mean) / (std + self.eps) + self.beta"
   ]
  },
  {
   "cell_type": "code",
   "execution_count": 29,
   "id": "98a58c90",
   "metadata": {},
   "outputs": [],
   "source": [
    "class EncoderLayer(nn.Module):\n",
    "    def __init__(self, d_model, num_heads, d_ff, dropout=0.1):\n",
    "        super().__init__()\n",
    "        self.self_attn = MultiHeadAttention(d_model, num_heads)\n",
    "        self.ffn = FeedForward(d_model, d_ff, dropout)\n",
    "        self.norm1 = LayerNorm(d_model)\n",
    "        self.norm2 = LayerNorm(d_model)\n",
    "        self.dropout = nn.Dropout(dropout)\n",
    "\n",
    "    def forward(self, x, mask=None):\n",
    "        x = self.norm1(x + self.dropout(self.self_attn(x, x, x, mask)))\n",
    "        x = self.norm2(x + self.dropout(self.ffn(x)))\n",
    "        return x"
   ]
  },
  {
   "cell_type": "code",
   "execution_count": 30,
   "id": "f3dc8ad5",
   "metadata": {},
   "outputs": [],
   "source": [
    "class DecoderLayer(nn.Module):\n",
    "    def __init__(self, d_model, num_heads, d_ff, dropout=0.1):\n",
    "        super().__init__()\n",
    "        self.self_attn = MultiHeadAttention(d_model, num_heads)\n",
    "        self.cross_attn = MultiHeadAttention(d_model, num_heads)\n",
    "        self.ffn = FeedForward(d_model, d_ff, dropout)\n",
    "\n",
    "        self.norm1 = LayerNorm(d_model)\n",
    "        self.norm2 = LayerNorm(d_model)\n",
    "        self.norm3 = LayerNorm(d_model)\n",
    "        self.dropout = nn.Dropout(dropout)\n",
    "\n",
    "    def forward(self, x, enc_out, src_mask=None, tgt_mask=None):\n",
    "        x = self.norm1(x + self.dropout(self.self_attn(x, x, x, tgt_mask)))\n",
    "        x = self.norm2(x + self.dropout(self.cross_attn(x, enc_out, enc_out, src_mask)))\n",
    "        x = self.norm3(x + self.dropout(self.ffn(x)))\n",
    "        return x"
   ]
  },
  {
   "cell_type": "code",
   "execution_count": 31,
   "id": "cc90f67e",
   "metadata": {},
   "outputs": [],
   "source": [
    "class Encoder(nn.Module):\n",
    "    def __init__(self, input_vocab_size, d_model, num_layers, num_heads, d_ff, max_len, dropout=0.1):\n",
    "        super().__init__()\n",
    "        self.embed = nn.Embedding(input_vocab_size, d_model)\n",
    "        self.pos_enc = PositionalEncoding(d_model, max_len)\n",
    "        self.layers = nn.ModuleList([\n",
    "            EncoderLayer(d_model, num_heads, d_ff, dropout)\n",
    "            for _ in range(num_layers)\n",
    "        ])\n",
    "        self.dropout = nn.Dropout(dropout)\n",
    "\n",
    "    def forward(self, x, mask=None):\n",
    "        x = self.embed(x)\n",
    "        x = self.pos_enc(x)\n",
    "        x = self.dropout(x)\n",
    "\n",
    "        for layer in self.layers:\n",
    "            x = layer(x, mask)\n",
    "\n",
    "        return x"
   ]
  },
  {
   "cell_type": "code",
   "execution_count": 32,
   "id": "dae93246",
   "metadata": {},
   "outputs": [],
   "source": [
    "class Decoder(nn.Module):\n",
    "    def __init__(self, target_vocab_size, d_model, num_layers, num_heads, d_ff, max_len, dropout=0.1):\n",
    "        super().__init__()\n",
    "        self.embed = nn.Embedding(target_vocab_size, d_model)\n",
    "        self.pos_enc = PositionalEncoding(d_model, max_len)\n",
    "        self.layers = nn.ModuleList([\n",
    "            DecoderLayer(d_model, num_heads, d_ff, dropout)\n",
    "            for _ in range(num_layers)\n",
    "        ])\n",
    "        self.dropout = nn.Dropout(dropout)\n",
    "\n",
    "    def forward(self, x, enc_out, src_mask=None, tgt_mask=None):\n",
    "        x = self.embed(x)\n",
    "        x = self.pos_enc(x)\n",
    "        x = self.dropout(x)\n",
    "\n",
    "        for layer in self.layers:\n",
    "            x = layer(x, enc_out, src_mask, tgt_mask)\n",
    "\n",
    "        return x"
   ]
  },
  {
   "cell_type": "code",
   "execution_count": 33,
   "id": "ec52d617",
   "metadata": {},
   "outputs": [],
   "source": [
    "class Transformer(nn.Module):\n",
    "    def __init__(self, src_vocab_size, tgt_vocab_size, d_model=512, num_layers=6, num_heads=8, d_ff=2048, max_len=100, dropout=0.1):\n",
    "        super().__init__()\n",
    "        self.encoder = Encoder(src_vocab_size, d_model, num_layers, num_heads, d_ff, max_len, dropout)\n",
    "        self.decoder = Decoder(tgt_vocab_size, d_model, num_layers, num_heads, d_ff, max_len, dropout)\n",
    "        self.fc_out = nn.Linear(d_model, tgt_vocab_size)\n",
    "\n",
    "    def make_pad_mask(self, seq, pad_idx):\n",
    "        return (seq != pad_idx).unsqueeze(1).unsqueeze(2)  # [B, 1, 1, T]\n",
    "\n",
    "    def make_subsequent_mask(self, size):\n",
    "        return torch.tril(torch.ones((size, size))).bool().to(next(self.parameters()).device)\n",
    "\n",
    "    def forward(self, src, tgt, src_pad_idx, tgt_pad_idx):\n",
    "        src_mask = self.make_pad_mask(src, src_pad_idx)\n",
    "        tgt_pad_mask = self.make_pad_mask(tgt, tgt_pad_idx)\n",
    "        tgt_sub_mask = self.make_subsequent_mask(tgt.size(1))\n",
    "        tgt_mask = tgt_pad_mask & tgt_sub_mask  # Combine masks\n",
    "\n",
    "        enc_out = self.encoder(src, src_mask)\n",
    "        dec_out = self.decoder(tgt, enc_out, src_mask, tgt_mask)\n",
    "\n",
    "        out = self.fc_out(dec_out)\n",
    "        return out"
   ]
  },
  {
   "cell_type": "code",
   "execution_count": 34,
   "id": "b05b165c",
   "metadata": {},
   "outputs": [],
   "source": [
    "from torch.utils.data import Dataset"
   ]
  },
  {
   "cell_type": "code",
   "execution_count": 35,
   "id": "d1a39c03",
   "metadata": {},
   "outputs": [],
   "source": [
    "class TranslationDataset(Dataset):\n",
    "    def __init__(self, df, en_vocab, hi_vocab, max_len=50):\n",
    "        self.en_sentences = df[\"en\"].tolist()\n",
    "        self.hi_sentences = df[\"hi\"].tolist()\n",
    "        self.en_vocab = en_vocab\n",
    "        self.hi_vocab = hi_vocab\n",
    "        self.max_len = max_len\n",
    "\n",
    "    def __len__(self):\n",
    "        return len(self.en_sentences)\n",
    "\n",
    "    def __getitem__(self, idx):\n",
    "        src = encode_sentence(self.en_sentences[idx], self.en_vocab, self.max_len)\n",
    "        tgt = encode_sentence(self.hi_sentences[idx], self.hi_vocab, self.max_len)\n",
    "        return torch.tensor(src), torch.tensor(tgt)"
   ]
  },
  {
   "cell_type": "code",
   "execution_count": 36,
   "id": "de31b61f",
   "metadata": {},
   "outputs": [],
   "source": [
    "def collate_fn(batch):\n",
    "    src_batch, tgt_batch = zip(*batch)\n",
    "    \n",
    "    src_batch = torch.stack(src_batch)\n",
    "    tgt_batch = torch.stack(tgt_batch)\n",
    "\n",
    "    # Transformer decoder needs: tgt_input (without <eos>) and tgt_output (without <sos>)\n",
    "    tgt_input = tgt_batch[:, :-1]\n",
    "    tgt_output = tgt_batch[:, 1:]\n",
    "\n",
    "    return src_batch, tgt_input, tgt_output"
   ]
  },
  {
   "cell_type": "code",
   "execution_count": 37,
   "id": "2003b6b1",
   "metadata": {},
   "outputs": [],
   "source": [
    "from torch.utils.data import DataLoader"
   ]
  },
  {
   "cell_type": "code",
   "execution_count": 38,
   "id": "8997b558",
   "metadata": {},
   "outputs": [],
   "source": [
    "BATCH_SIZE = 32\n",
    "MAX_LEN = 50"
   ]
  },
  {
   "cell_type": "code",
   "execution_count": 39,
   "id": "6745c76a",
   "metadata": {},
   "outputs": [],
   "source": [
    "dataset = TranslationDataset(df, en_vocab, hi_vocab, max_len=MAX_LEN)\n",
    "train_loader = DataLoader(dataset, batch_size=BATCH_SIZE, shuffle=True, collate_fn=collate_fn)"
   ]
  },
  {
   "cell_type": "code",
   "execution_count": 40,
   "id": "82016958",
   "metadata": {},
   "outputs": [],
   "source": [
    "import torch.nn as nn\n",
    "import torch.optim as optim\n",
    "from tqdm import tqdm"
   ]
  },
  {
   "cell_type": "code",
   "execution_count": 41,
   "id": "a1ea51b9",
   "metadata": {},
   "outputs": [
    {
     "name": "stdout",
     "output_type": "stream",
     "text": [
      "Using Device: cuda\n"
     ]
    }
   ],
   "source": [
    "DEVICE = torch.device(\"cuda\" if torch.cuda.is_available() else \"cpu\")\n",
    "print(f\"Using Device: {DEVICE}\")"
   ]
  },
  {
   "cell_type": "code",
   "execution_count": 42,
   "id": "06811f74",
   "metadata": {},
   "outputs": [],
   "source": [
    "# Hyperparams\n",
    "SRC_PAD_IDX = en_vocab[\"<pad>\"]\n",
    "TGT_PAD_IDX = hi_vocab[\"<pad>\"]\n",
    "NUM_EPOCHS = 100\n",
    "D_MODEL = 512"
   ]
  },
  {
   "cell_type": "code",
   "execution_count": 43,
   "id": "b5e39b5f",
   "metadata": {},
   "outputs": [],
   "source": [
    "model = Transformer(\n",
    "    src_vocab_size=len(en_vocab),\n",
    "    tgt_vocab_size=len(hi_vocab),\n",
    "    d_model=D_MODEL,\n",
    "    num_layers=6,\n",
    "    num_heads=8,\n",
    "    d_ff=2048,\n",
    "    max_len=MAX_LEN,\n",
    "    dropout=0.1\n",
    ").to(DEVICE)"
   ]
  },
  {
   "cell_type": "code",
   "execution_count": 44,
   "id": "6a22d243",
   "metadata": {},
   "outputs": [],
   "source": [
    "criterion = nn.CrossEntropyLoss(ignore_index=TGT_PAD_IDX)\n",
    "optimizer = optim.Adam(model.parameters(), lr=1e-4)"
   ]
  },
  {
   "cell_type": "code",
   "execution_count": 45,
   "id": "e1b73413",
   "metadata": {},
   "outputs": [],
   "source": [
    "import os"
   ]
  },
  {
   "cell_type": "code",
   "execution_count": 46,
   "id": "2da50c10",
   "metadata": {},
   "outputs": [],
   "source": [
    "def save_checkpoint(epoch, model, optimizer, loss, path=\"checkpoint.pt\"):\n",
    "    torch.save({\n",
    "        'epoch': epoch,\n",
    "        'model_state': model.state_dict(),\n",
    "        'optimizer_state': optimizer.state_dict(),\n",
    "        'loss': loss\n",
    "    }, path)\n",
    "\n",
    "    print(f\"Checkpoint saved at epoch {epoch}, loss {loss:.4f}.\")"
   ]
  },
  {
   "cell_type": "code",
   "execution_count": 47,
   "id": "8776edf2",
   "metadata": {},
   "outputs": [],
   "source": [
    "import torch\n",
    "\n",
    "def load_checkpoint(model, optimizer, path=\"checkpoint.pt\"):\n",
    "    if torch.cuda.is_available() and path is not None and os.path.exists(path):\n",
    "        checkpoint = torch.load(path)\n",
    "    elif path is not None and os.path.exists(path):\n",
    "        checkpoint = torch.load(path, map_location=torch.device('cpu'))\n",
    "    else:\n",
    "        print(f\"No checkpoint found at {path}. Starting from scratch.\")\n",
    "        return 0\n",
    "\n",
    "    model.load_state_dict(checkpoint['model_state'])\n",
    "    optimizer.load_state_dict(checkpoint['optimizer_state'])\n",
    "\n",
    "    epoch = checkpoint['epoch']\n",
    "    loss = checkpoint['loss']\n",
    "\n",
    "    print(f\"✅ Loaded checkpoint from epoch {epoch} with loss {loss:.4f}\")\n",
    "    \n",
    "    return epoch"
   ]
  },
  {
   "cell_type": "code",
   "execution_count": 48,
   "id": "346b7806",
   "metadata": {},
   "outputs": [],
   "source": [
    "def train(model, train_loader, optimizer, criterion, start_epoch=0, num_epochs=NUM_EPOCHS, checkpoint_path=\"checkpoint.pt\"):\n",
    "    for epoch in range(start_epoch, num_epochs):\n",
    "        model.train()\n",
    "        epoch_loss = 0\n",
    "        loop = tqdm(train_loader, desc=f\"Epoch [{epoch+1}/{num_epochs}]\")\n",
    "\n",
    "        for src, tgt_input, tgt_output in loop:\n",
    "            src, tgt_input, tgt_output = src.to(DEVICE), tgt_input.to(DEVICE), tgt_output.to(DEVICE)\n",
    "\n",
    "            output = model(src, tgt_input, SRC_PAD_IDX, TGT_PAD_IDX)\n",
    "            output = output.view(-1, output.shape[-1])\n",
    "            tgt_output = tgt_output.view(-1)\n",
    "\n",
    "            loss = criterion(output, tgt_output)\n",
    "\n",
    "            optimizer.zero_grad()\n",
    "            loss.backward()\n",
    "            optimizer.step()\n",
    "\n",
    "            epoch_loss += loss.item()\n",
    "            loop.set_postfix(loss=loss.item())\n",
    "\n",
    "        # Save checkpoint at end of each epoch\n",
    "        save_checkpoint(epoch+1, model, optimizer, epoch_loss / len(train_loader), checkpoint_path)"
   ]
  },
  {
   "cell_type": "code",
   "execution_count": 49,
   "id": "643b1827",
   "metadata": {},
   "outputs": [
    {
     "name": "stdout",
     "output_type": "stream",
     "text": [
      "No checkpoint found at checkpoint.pt. Starting from scratch.\n"
     ]
    }
   ],
   "source": [
    "start_epoch = load_checkpoint(model, optimizer)"
   ]
  },
  {
   "cell_type": "code",
   "execution_count": 50,
   "id": "ce01837d",
   "metadata": {},
   "outputs": [
    {
     "name": "stderr",
     "output_type": "stream",
     "text": [
      "Epoch [1/100]: 100%|██████████| 413/413 [01:14<00:00,  5.57it/s, loss=3.41]\n"
     ]
    },
    {
     "name": "stdout",
     "output_type": "stream",
     "text": [
      "Checkpoint saved at epoch 1, loss 4.9733.\n"
     ]
    },
    {
     "name": "stderr",
     "output_type": "stream",
     "text": [
      "Epoch [2/100]: 100%|██████████| 413/413 [01:22<00:00,  5.00it/s, loss=2.23]\n"
     ]
    },
    {
     "name": "stdout",
     "output_type": "stream",
     "text": [
      "Checkpoint saved at epoch 2, loss 3.7879.\n"
     ]
    },
    {
     "name": "stderr",
     "output_type": "stream",
     "text": [
      "Epoch [3/100]: 100%|██████████| 413/413 [01:18<00:00,  5.25it/s, loss=1.23]\n"
     ]
    },
    {
     "name": "stdout",
     "output_type": "stream",
     "text": [
      "Checkpoint saved at epoch 3, loss 3.1634.\n"
     ]
    },
    {
     "name": "stderr",
     "output_type": "stream",
     "text": [
      "Epoch [4/100]: 100%|██████████| 413/413 [00:53<00:00,  7.71it/s, loss=2.56]\n"
     ]
    },
    {
     "name": "stdout",
     "output_type": "stream",
     "text": [
      "Checkpoint saved at epoch 4, loss 2.6815.\n"
     ]
    },
    {
     "name": "stderr",
     "output_type": "stream",
     "text": [
      "Epoch [5/100]: 100%|██████████| 413/413 [01:14<00:00,  5.53it/s, loss=2.79]\n"
     ]
    },
    {
     "name": "stdout",
     "output_type": "stream",
     "text": [
      "Checkpoint saved at epoch 5, loss 2.2675.\n"
     ]
    },
    {
     "name": "stderr",
     "output_type": "stream",
     "text": [
      "Epoch [6/100]: 100%|██████████| 413/413 [01:27<00:00,  4.70it/s, loss=1.81]\n"
     ]
    },
    {
     "name": "stdout",
     "output_type": "stream",
     "text": [
      "Checkpoint saved at epoch 6, loss 1.9130.\n"
     ]
    },
    {
     "name": "stderr",
     "output_type": "stream",
     "text": [
      "Epoch [7/100]: 100%|██████████| 413/413 [01:28<00:00,  4.66it/s, loss=1.39]\n"
     ]
    },
    {
     "name": "stdout",
     "output_type": "stream",
     "text": [
      "Checkpoint saved at epoch 7, loss 1.5927.\n"
     ]
    },
    {
     "name": "stderr",
     "output_type": "stream",
     "text": [
      "Epoch [8/100]: 100%|██████████| 413/413 [01:45<00:00,  3.90it/s, loss=1.81] \n"
     ]
    },
    {
     "name": "stdout",
     "output_type": "stream",
     "text": [
      "Checkpoint saved at epoch 8, loss 1.3146.\n"
     ]
    },
    {
     "name": "stderr",
     "output_type": "stream",
     "text": [
      "Epoch [9/100]: 100%|██████████| 413/413 [01:47<00:00,  3.85it/s, loss=1.47] \n"
     ]
    },
    {
     "name": "stdout",
     "output_type": "stream",
     "text": [
      "Checkpoint saved at epoch 9, loss 1.1017.\n"
     ]
    },
    {
     "name": "stderr",
     "output_type": "stream",
     "text": [
      "Epoch [10/100]: 100%|██████████| 413/413 [01:00<00:00,  6.87it/s, loss=0.844]\n"
     ]
    },
    {
     "name": "stdout",
     "output_type": "stream",
     "text": [
      "Checkpoint saved at epoch 10, loss 0.8854.\n"
     ]
    },
    {
     "name": "stderr",
     "output_type": "stream",
     "text": [
      "Epoch [11/100]: 100%|██████████| 413/413 [01:01<00:00,  6.67it/s, loss=0.336]\n"
     ]
    },
    {
     "name": "stdout",
     "output_type": "stream",
     "text": [
      "Checkpoint saved at epoch 11, loss 0.7204.\n"
     ]
    },
    {
     "name": "stderr",
     "output_type": "stream",
     "text": [
      "Epoch [12/100]: 100%|██████████| 413/413 [01:23<00:00,  4.94it/s, loss=0.871]\n"
     ]
    },
    {
     "name": "stdout",
     "output_type": "stream",
     "text": [
      "Checkpoint saved at epoch 12, loss 0.5910.\n"
     ]
    },
    {
     "name": "stderr",
     "output_type": "stream",
     "text": [
      "Epoch [13/100]: 100%|██████████| 413/413 [01:14<00:00,  5.58it/s, loss=0.954]\n"
     ]
    },
    {
     "name": "stdout",
     "output_type": "stream",
     "text": [
      "Checkpoint saved at epoch 13, loss 0.4916.\n"
     ]
    },
    {
     "name": "stderr",
     "output_type": "stream",
     "text": [
      "Epoch [14/100]: 100%|██████████| 413/413 [01:11<00:00,  5.79it/s, loss=0.458]\n"
     ]
    },
    {
     "name": "stdout",
     "output_type": "stream",
     "text": [
      "Checkpoint saved at epoch 14, loss 0.4132.\n"
     ]
    },
    {
     "name": "stderr",
     "output_type": "stream",
     "text": [
      "Epoch [15/100]: 100%|██████████| 413/413 [01:23<00:00,  4.93it/s, loss=0.584]\n"
     ]
    },
    {
     "name": "stdout",
     "output_type": "stream",
     "text": [
      "Checkpoint saved at epoch 15, loss 0.3546.\n"
     ]
    },
    {
     "name": "stderr",
     "output_type": "stream",
     "text": [
      "Epoch [16/100]: 100%|██████████| 413/413 [01:21<00:00,  5.04it/s, loss=0.421]\n"
     ]
    },
    {
     "name": "stdout",
     "output_type": "stream",
     "text": [
      "Checkpoint saved at epoch 16, loss 0.3217.\n"
     ]
    },
    {
     "name": "stderr",
     "output_type": "stream",
     "text": [
      "Epoch [17/100]: 100%|██████████| 413/413 [01:08<00:00,  6.04it/s, loss=0.382]\n"
     ]
    },
    {
     "name": "stdout",
     "output_type": "stream",
     "text": [
      "Checkpoint saved at epoch 17, loss 0.2910.\n"
     ]
    },
    {
     "name": "stderr",
     "output_type": "stream",
     "text": [
      "Epoch [18/100]: 100%|██████████| 413/413 [00:53<00:00,  7.79it/s, loss=0.105]\n"
     ]
    },
    {
     "name": "stdout",
     "output_type": "stream",
     "text": [
      "Checkpoint saved at epoch 18, loss 0.2679.\n"
     ]
    },
    {
     "name": "stderr",
     "output_type": "stream",
     "text": [
      "Epoch [19/100]: 100%|██████████| 413/413 [00:52<00:00,  7.92it/s, loss=0.107]\n"
     ]
    },
    {
     "name": "stdout",
     "output_type": "stream",
     "text": [
      "Checkpoint saved at epoch 19, loss 0.2457.\n"
     ]
    },
    {
     "name": "stderr",
     "output_type": "stream",
     "text": [
      "Epoch [20/100]: 100%|██████████| 413/413 [00:56<00:00,  7.36it/s, loss=0.625]\n"
     ]
    },
    {
     "name": "stdout",
     "output_type": "stream",
     "text": [
      "Checkpoint saved at epoch 20, loss 0.2378.\n"
     ]
    },
    {
     "name": "stderr",
     "output_type": "stream",
     "text": [
      "Epoch [21/100]: 100%|██████████| 413/413 [00:51<00:00,  8.01it/s, loss=0.489]\n"
     ]
    },
    {
     "name": "stdout",
     "output_type": "stream",
     "text": [
      "Checkpoint saved at epoch 21, loss 0.2295.\n"
     ]
    },
    {
     "name": "stderr",
     "output_type": "stream",
     "text": [
      "Epoch [22/100]: 100%|██████████| 413/413 [00:52<00:00,  7.80it/s, loss=0.36] \n"
     ]
    },
    {
     "name": "stdout",
     "output_type": "stream",
     "text": [
      "Checkpoint saved at epoch 22, loss 0.2206.\n"
     ]
    },
    {
     "name": "stderr",
     "output_type": "stream",
     "text": [
      "Epoch [23/100]: 100%|██████████| 413/413 [00:52<00:00,  7.89it/s, loss=0.0705]\n"
     ]
    },
    {
     "name": "stdout",
     "output_type": "stream",
     "text": [
      "Checkpoint saved at epoch 23, loss 0.2116.\n"
     ]
    },
    {
     "name": "stderr",
     "output_type": "stream",
     "text": [
      "Epoch [24/100]: 100%|██████████| 413/413 [00:56<00:00,  7.25it/s, loss=0.0719]\n"
     ]
    },
    {
     "name": "stdout",
     "output_type": "stream",
     "text": [
      "Checkpoint saved at epoch 24, loss 0.2011.\n"
     ]
    },
    {
     "name": "stderr",
     "output_type": "stream",
     "text": [
      "Epoch [25/100]: 100%|██████████| 413/413 [00:51<00:00,  7.98it/s, loss=0.14] \n"
     ]
    },
    {
     "name": "stdout",
     "output_type": "stream",
     "text": [
      "Checkpoint saved at epoch 25, loss 0.1971.\n"
     ]
    },
    {
     "name": "stderr",
     "output_type": "stream",
     "text": [
      "Epoch [26/100]: 100%|██████████| 413/413 [01:19<00:00,  5.20it/s, loss=0.0677]\n"
     ]
    },
    {
     "name": "stdout",
     "output_type": "stream",
     "text": [
      "Checkpoint saved at epoch 26, loss 0.1947.\n"
     ]
    },
    {
     "name": "stderr",
     "output_type": "stream",
     "text": [
      "Epoch [27/100]: 100%|██████████| 413/413 [00:58<00:00,  7.04it/s, loss=0.0324]\n"
     ]
    },
    {
     "name": "stdout",
     "output_type": "stream",
     "text": [
      "Checkpoint saved at epoch 27, loss 0.1932.\n"
     ]
    },
    {
     "name": "stderr",
     "output_type": "stream",
     "text": [
      "Epoch [28/100]: 100%|██████████| 413/413 [01:43<00:00,  3.98it/s, loss=0.106]\n"
     ]
    },
    {
     "name": "stdout",
     "output_type": "stream",
     "text": [
      "Checkpoint saved at epoch 28, loss 0.1884.\n"
     ]
    },
    {
     "name": "stderr",
     "output_type": "stream",
     "text": [
      "Epoch [29/100]: 100%|██████████| 413/413 [01:35<00:00,  4.34it/s, loss=0.731] \n"
     ]
    },
    {
     "name": "stdout",
     "output_type": "stream",
     "text": [
      "Checkpoint saved at epoch 29, loss 0.1844.\n"
     ]
    },
    {
     "name": "stderr",
     "output_type": "stream",
     "text": [
      "Epoch [30/100]: 100%|██████████| 413/413 [01:22<00:00,  4.98it/s, loss=0.0783]\n"
     ]
    },
    {
     "name": "stdout",
     "output_type": "stream",
     "text": [
      "Checkpoint saved at epoch 30, loss 0.1823.\n"
     ]
    },
    {
     "name": "stderr",
     "output_type": "stream",
     "text": [
      "Epoch [31/100]: 100%|██████████| 413/413 [01:24<00:00,  4.87it/s, loss=0.206] \n"
     ]
    },
    {
     "name": "stdout",
     "output_type": "stream",
     "text": [
      "Checkpoint saved at epoch 31, loss 0.1783.\n"
     ]
    },
    {
     "name": "stderr",
     "output_type": "stream",
     "text": [
      "Epoch [32/100]: 100%|██████████| 413/413 [01:24<00:00,  4.88it/s, loss=0.0226]\n"
     ]
    },
    {
     "name": "stdout",
     "output_type": "stream",
     "text": [
      "Checkpoint saved at epoch 32, loss 0.1745.\n"
     ]
    },
    {
     "name": "stderr",
     "output_type": "stream",
     "text": [
      "Epoch [33/100]: 100%|██████████| 413/413 [01:27<00:00,  4.74it/s, loss=0.179] \n"
     ]
    },
    {
     "name": "stdout",
     "output_type": "stream",
     "text": [
      "Checkpoint saved at epoch 33, loss 0.1691.\n"
     ]
    },
    {
     "name": "stderr",
     "output_type": "stream",
     "text": [
      "Epoch [34/100]: 100%|██████████| 413/413 [01:25<00:00,  4.84it/s, loss=0.112] \n"
     ]
    },
    {
     "name": "stdout",
     "output_type": "stream",
     "text": [
      "Checkpoint saved at epoch 34, loss 0.1676.\n"
     ]
    },
    {
     "name": "stderr",
     "output_type": "stream",
     "text": [
      "Epoch [35/100]: 100%|██████████| 413/413 [01:24<00:00,  4.87it/s, loss=0.148] \n"
     ]
    },
    {
     "name": "stdout",
     "output_type": "stream",
     "text": [
      "Checkpoint saved at epoch 35, loss 0.1654.\n"
     ]
    },
    {
     "name": "stderr",
     "output_type": "stream",
     "text": [
      "Epoch [36/100]: 100%|██████████| 413/413 [01:27<00:00,  4.72it/s, loss=0.0911]\n"
     ]
    },
    {
     "name": "stdout",
     "output_type": "stream",
     "text": [
      "Checkpoint saved at epoch 36, loss 0.1624.\n"
     ]
    },
    {
     "name": "stderr",
     "output_type": "stream",
     "text": [
      "Epoch [37/100]: 100%|██████████| 413/413 [01:25<00:00,  4.83it/s, loss=0.137] \n"
     ]
    },
    {
     "name": "stdout",
     "output_type": "stream",
     "text": [
      "Checkpoint saved at epoch 37, loss 0.1586.\n"
     ]
    },
    {
     "name": "stderr",
     "output_type": "stream",
     "text": [
      "Epoch [38/100]: 100%|██████████| 413/413 [01:21<00:00,  5.04it/s, loss=0.439] \n"
     ]
    },
    {
     "name": "stdout",
     "output_type": "stream",
     "text": [
      "Checkpoint saved at epoch 38, loss 0.1580.\n"
     ]
    },
    {
     "name": "stderr",
     "output_type": "stream",
     "text": [
      "Epoch [39/100]: 100%|██████████| 413/413 [01:28<00:00,  4.67it/s, loss=0.156] \n"
     ]
    },
    {
     "name": "stdout",
     "output_type": "stream",
     "text": [
      "Checkpoint saved at epoch 39, loss 0.1586.\n"
     ]
    },
    {
     "name": "stderr",
     "output_type": "stream",
     "text": [
      "Epoch [40/100]: 100%|██████████| 413/413 [01:27<00:00,  4.74it/s, loss=0.0561]\n"
     ]
    },
    {
     "name": "stdout",
     "output_type": "stream",
     "text": [
      "Checkpoint saved at epoch 40, loss 0.1546.\n"
     ]
    },
    {
     "name": "stderr",
     "output_type": "stream",
     "text": [
      "Epoch [41/100]: 100%|██████████| 413/413 [01:26<00:00,  4.79it/s, loss=0.0713]\n"
     ]
    },
    {
     "name": "stdout",
     "output_type": "stream",
     "text": [
      "Checkpoint saved at epoch 41, loss 0.1530.\n"
     ]
    },
    {
     "name": "stderr",
     "output_type": "stream",
     "text": [
      "Epoch [42/100]: 100%|██████████| 413/413 [01:24<00:00,  4.88it/s, loss=0.105] \n"
     ]
    },
    {
     "name": "stdout",
     "output_type": "stream",
     "text": [
      "Checkpoint saved at epoch 42, loss 0.1512.\n"
     ]
    },
    {
     "name": "stderr",
     "output_type": "stream",
     "text": [
      "Epoch [43/100]: 100%|██████████| 413/413 [01:24<00:00,  4.86it/s, loss=0.0223]\n"
     ]
    },
    {
     "name": "stdout",
     "output_type": "stream",
     "text": [
      "Checkpoint saved at epoch 43, loss 0.1473.\n"
     ]
    },
    {
     "name": "stderr",
     "output_type": "stream",
     "text": [
      "Epoch [44/100]: 100%|██████████| 413/413 [01:25<00:00,  4.80it/s, loss=0.033] \n"
     ]
    },
    {
     "name": "stdout",
     "output_type": "stream",
     "text": [
      "Checkpoint saved at epoch 44, loss 0.1473.\n"
     ]
    },
    {
     "name": "stderr",
     "output_type": "stream",
     "text": [
      "Epoch [45/100]: 100%|██████████| 413/413 [01:25<00:00,  4.84it/s, loss=0.242] \n"
     ]
    },
    {
     "name": "stdout",
     "output_type": "stream",
     "text": [
      "Checkpoint saved at epoch 45, loss 0.1449.\n"
     ]
    },
    {
     "name": "stderr",
     "output_type": "stream",
     "text": [
      "Epoch [46/100]: 100%|██████████| 413/413 [01:25<00:00,  4.81it/s, loss=0.15]  \n"
     ]
    },
    {
     "name": "stdout",
     "output_type": "stream",
     "text": [
      "Checkpoint saved at epoch 46, loss 0.1444.\n"
     ]
    },
    {
     "name": "stderr",
     "output_type": "stream",
     "text": [
      "Epoch [47/100]: 100%|██████████| 413/413 [01:26<00:00,  4.80it/s, loss=0.0318]\n"
     ]
    },
    {
     "name": "stdout",
     "output_type": "stream",
     "text": [
      "Checkpoint saved at epoch 47, loss 0.1427.\n"
     ]
    },
    {
     "name": "stderr",
     "output_type": "stream",
     "text": [
      "Epoch [48/100]: 100%|██████████| 413/413 [01:24<00:00,  4.88it/s, loss=0.376] \n"
     ]
    },
    {
     "name": "stdout",
     "output_type": "stream",
     "text": [
      "Checkpoint saved at epoch 48, loss 0.1414.\n"
     ]
    },
    {
     "name": "stderr",
     "output_type": "stream",
     "text": [
      "Epoch [49/100]: 100%|██████████| 413/413 [01:24<00:00,  4.87it/s, loss=0.00883]\n"
     ]
    },
    {
     "name": "stdout",
     "output_type": "stream",
     "text": [
      "Checkpoint saved at epoch 49, loss 0.1411.\n"
     ]
    },
    {
     "name": "stderr",
     "output_type": "stream",
     "text": [
      "Epoch [50/100]: 100%|██████████| 413/413 [01:24<00:00,  4.87it/s, loss=0.2]   \n"
     ]
    },
    {
     "name": "stdout",
     "output_type": "stream",
     "text": [
      "Checkpoint saved at epoch 50, loss 0.1385.\n"
     ]
    },
    {
     "name": "stderr",
     "output_type": "stream",
     "text": [
      "Epoch [51/100]: 100%|██████████| 413/413 [01:26<00:00,  4.75it/s, loss=0.0503]\n"
     ]
    },
    {
     "name": "stdout",
     "output_type": "stream",
     "text": [
      "Checkpoint saved at epoch 51, loss 0.1373.\n"
     ]
    },
    {
     "name": "stderr",
     "output_type": "stream",
     "text": [
      "Epoch [52/100]: 100%|██████████| 413/413 [01:24<00:00,  4.88it/s, loss=0.207] \n"
     ]
    },
    {
     "name": "stdout",
     "output_type": "stream",
     "text": [
      "Checkpoint saved at epoch 52, loss 0.1374.\n"
     ]
    },
    {
     "name": "stderr",
     "output_type": "stream",
     "text": [
      "Epoch [53/100]: 100%|██████████| 413/413 [01:26<00:00,  4.79it/s, loss=0.0152]\n"
     ]
    },
    {
     "name": "stdout",
     "output_type": "stream",
     "text": [
      "Checkpoint saved at epoch 53, loss 0.1366.\n"
     ]
    },
    {
     "name": "stderr",
     "output_type": "stream",
     "text": [
      "Epoch [54/100]: 100%|██████████| 413/413 [01:26<00:00,  4.78it/s, loss=0.00926]\n"
     ]
    },
    {
     "name": "stdout",
     "output_type": "stream",
     "text": [
      "Checkpoint saved at epoch 54, loss 0.1340.\n"
     ]
    },
    {
     "name": "stderr",
     "output_type": "stream",
     "text": [
      "Epoch [55/100]: 100%|██████████| 413/413 [01:26<00:00,  4.78it/s, loss=0.335] \n"
     ]
    },
    {
     "name": "stdout",
     "output_type": "stream",
     "text": [
      "Checkpoint saved at epoch 55, loss 0.1330.\n"
     ]
    },
    {
     "name": "stderr",
     "output_type": "stream",
     "text": [
      "Epoch [56/100]: 100%|██████████| 413/413 [01:24<00:00,  4.91it/s, loss=0.175] \n"
     ]
    },
    {
     "name": "stdout",
     "output_type": "stream",
     "text": [
      "Checkpoint saved at epoch 56, loss 0.1337.\n"
     ]
    },
    {
     "name": "stderr",
     "output_type": "stream",
     "text": [
      "Epoch [57/100]: 100%|██████████| 413/413 [01:24<00:00,  4.91it/s, loss=0.327] \n"
     ]
    },
    {
     "name": "stdout",
     "output_type": "stream",
     "text": [
      "Checkpoint saved at epoch 57, loss 0.1291.\n"
     ]
    },
    {
     "name": "stderr",
     "output_type": "stream",
     "text": [
      "Epoch [58/100]: 100%|██████████| 413/413 [01:25<00:00,  4.84it/s, loss=0.1]   \n"
     ]
    },
    {
     "name": "stdout",
     "output_type": "stream",
     "text": [
      "Checkpoint saved at epoch 58, loss 0.1302.\n"
     ]
    },
    {
     "name": "stderr",
     "output_type": "stream",
     "text": [
      "Epoch [59/100]: 100%|██████████| 413/413 [01:23<00:00,  4.95it/s, loss=0.283] \n"
     ]
    },
    {
     "name": "stdout",
     "output_type": "stream",
     "text": [
      "Checkpoint saved at epoch 59, loss 0.1288.\n"
     ]
    },
    {
     "name": "stderr",
     "output_type": "stream",
     "text": [
      "Epoch [60/100]: 100%|██████████| 413/413 [01:25<00:00,  4.81it/s, loss=0.0353]\n"
     ]
    },
    {
     "name": "stdout",
     "output_type": "stream",
     "text": [
      "Checkpoint saved at epoch 60, loss 0.1280.\n"
     ]
    },
    {
     "name": "stderr",
     "output_type": "stream",
     "text": [
      "Epoch [61/100]: 100%|██████████| 413/413 [01:26<00:00,  4.76it/s, loss=0.0137]\n"
     ]
    },
    {
     "name": "stdout",
     "output_type": "stream",
     "text": [
      "Checkpoint saved at epoch 61, loss 0.1278.\n"
     ]
    },
    {
     "name": "stderr",
     "output_type": "stream",
     "text": [
      "Epoch [62/100]: 100%|██████████| 413/413 [01:25<00:00,  4.82it/s, loss=0.0374]\n"
     ]
    },
    {
     "name": "stdout",
     "output_type": "stream",
     "text": [
      "Checkpoint saved at epoch 62, loss 0.1247.\n"
     ]
    },
    {
     "name": "stderr",
     "output_type": "stream",
     "text": [
      "Epoch [63/100]: 100%|██████████| 413/413 [01:25<00:00,  4.84it/s, loss=0.00855]\n"
     ]
    },
    {
     "name": "stdout",
     "output_type": "stream",
     "text": [
      "Checkpoint saved at epoch 63, loss 0.1223.\n"
     ]
    },
    {
     "name": "stderr",
     "output_type": "stream",
     "text": [
      "Epoch [64/100]: 100%|██████████| 413/413 [01:25<00:00,  4.83it/s, loss=0.0885]\n"
     ]
    },
    {
     "name": "stdout",
     "output_type": "stream",
     "text": [
      "Checkpoint saved at epoch 64, loss 0.1244.\n"
     ]
    },
    {
     "name": "stderr",
     "output_type": "stream",
     "text": [
      "Epoch [65/100]: 100%|██████████| 413/413 [01:25<00:00,  4.84it/s, loss=0.137] \n"
     ]
    },
    {
     "name": "stdout",
     "output_type": "stream",
     "text": [
      "Checkpoint saved at epoch 65, loss 0.1226.\n"
     ]
    },
    {
     "name": "stderr",
     "output_type": "stream",
     "text": [
      "Epoch [66/100]: 100%|██████████| 413/413 [01:23<00:00,  4.92it/s, loss=0.11]  \n"
     ]
    },
    {
     "name": "stdout",
     "output_type": "stream",
     "text": [
      "Checkpoint saved at epoch 66, loss 0.1218.\n"
     ]
    },
    {
     "name": "stderr",
     "output_type": "stream",
     "text": [
      "Epoch [67/100]: 100%|██████████| 413/413 [01:24<00:00,  4.89it/s, loss=0.00595]\n"
     ]
    },
    {
     "name": "stdout",
     "output_type": "stream",
     "text": [
      "Checkpoint saved at epoch 67, loss 0.1202.\n"
     ]
    },
    {
     "name": "stderr",
     "output_type": "stream",
     "text": [
      "Epoch [68/100]: 100%|██████████| 413/413 [01:25<00:00,  4.80it/s, loss=0.495] \n"
     ]
    },
    {
     "name": "stdout",
     "output_type": "stream",
     "text": [
      "Checkpoint saved at epoch 68, loss 0.1201.\n"
     ]
    },
    {
     "name": "stderr",
     "output_type": "stream",
     "text": [
      "Epoch [69/100]: 100%|██████████| 413/413 [01:26<00:00,  4.78it/s, loss=0.0348]\n"
     ]
    },
    {
     "name": "stdout",
     "output_type": "stream",
     "text": [
      "Checkpoint saved at epoch 69, loss 0.1225.\n"
     ]
    },
    {
     "name": "stderr",
     "output_type": "stream",
     "text": [
      "Epoch [70/100]: 100%|██████████| 413/413 [01:24<00:00,  4.88it/s, loss=0.118] \n"
     ]
    },
    {
     "name": "stdout",
     "output_type": "stream",
     "text": [
      "Checkpoint saved at epoch 70, loss 0.1179.\n"
     ]
    },
    {
     "name": "stderr",
     "output_type": "stream",
     "text": [
      "Epoch [71/100]: 100%|██████████| 413/413 [01:26<00:00,  4.79it/s, loss=0.117] \n"
     ]
    },
    {
     "name": "stdout",
     "output_type": "stream",
     "text": [
      "Checkpoint saved at epoch 71, loss 0.1181.\n"
     ]
    },
    {
     "name": "stderr",
     "output_type": "stream",
     "text": [
      "Epoch [72/100]: 100%|██████████| 413/413 [01:25<00:00,  4.83it/s, loss=0.113] \n"
     ]
    },
    {
     "name": "stdout",
     "output_type": "stream",
     "text": [
      "Checkpoint saved at epoch 72, loss 0.1144.\n"
     ]
    },
    {
     "name": "stderr",
     "output_type": "stream",
     "text": [
      "Epoch [73/100]: 100%|██████████| 413/413 [01:23<00:00,  4.93it/s, loss=0.194] \n"
     ]
    },
    {
     "name": "stdout",
     "output_type": "stream",
     "text": [
      "Checkpoint saved at epoch 73, loss 0.1160.\n"
     ]
    },
    {
     "name": "stderr",
     "output_type": "stream",
     "text": [
      "Epoch [74/100]: 100%|██████████| 413/413 [01:25<00:00,  4.85it/s, loss=0.011] \n"
     ]
    },
    {
     "name": "stdout",
     "output_type": "stream",
     "text": [
      "Checkpoint saved at epoch 74, loss 0.1177.\n"
     ]
    },
    {
     "name": "stderr",
     "output_type": "stream",
     "text": [
      "Epoch [75/100]: 100%|██████████| 413/413 [01:28<00:00,  4.69it/s, loss=0.0169]\n"
     ]
    },
    {
     "name": "stdout",
     "output_type": "stream",
     "text": [
      "Checkpoint saved at epoch 75, loss 0.1141.\n"
     ]
    },
    {
     "name": "stderr",
     "output_type": "stream",
     "text": [
      "Epoch [76/100]: 100%|██████████| 413/413 [01:26<00:00,  4.77it/s, loss=0.293] \n"
     ]
    },
    {
     "name": "stdout",
     "output_type": "stream",
     "text": [
      "Checkpoint saved at epoch 76, loss 0.1132.\n"
     ]
    },
    {
     "name": "stderr",
     "output_type": "stream",
     "text": [
      "Epoch [77/100]: 100%|██████████| 413/413 [01:24<00:00,  4.86it/s, loss=0.555] \n"
     ]
    },
    {
     "name": "stdout",
     "output_type": "stream",
     "text": [
      "Checkpoint saved at epoch 77, loss 0.1174.\n"
     ]
    },
    {
     "name": "stderr",
     "output_type": "stream",
     "text": [
      "Epoch [78/100]: 100%|██████████| 413/413 [01:24<00:00,  4.90it/s, loss=0.049] \n"
     ]
    },
    {
     "name": "stdout",
     "output_type": "stream",
     "text": [
      "Checkpoint saved at epoch 78, loss 0.1127.\n"
     ]
    },
    {
     "name": "stderr",
     "output_type": "stream",
     "text": [
      "Epoch [79/100]: 100%|██████████| 413/413 [01:25<00:00,  4.83it/s, loss=0.205] \n"
     ]
    },
    {
     "name": "stdout",
     "output_type": "stream",
     "text": [
      "Checkpoint saved at epoch 79, loss 0.1130.\n"
     ]
    },
    {
     "name": "stderr",
     "output_type": "stream",
     "text": [
      "Epoch [80/100]: 100%|██████████| 413/413 [01:25<00:00,  4.83it/s, loss=0.0646]\n"
     ]
    },
    {
     "name": "stdout",
     "output_type": "stream",
     "text": [
      "Checkpoint saved at epoch 80, loss 0.1101.\n"
     ]
    },
    {
     "name": "stderr",
     "output_type": "stream",
     "text": [
      "Epoch [81/100]: 100%|██████████| 413/413 [01:24<00:00,  4.87it/s, loss=0.143] \n"
     ]
    },
    {
     "name": "stdout",
     "output_type": "stream",
     "text": [
      "Checkpoint saved at epoch 81, loss 0.1098.\n"
     ]
    },
    {
     "name": "stderr",
     "output_type": "stream",
     "text": [
      "Epoch [82/100]: 100%|██████████| 413/413 [01:26<00:00,  4.75it/s, loss=0.0469]\n"
     ]
    },
    {
     "name": "stdout",
     "output_type": "stream",
     "text": [
      "Checkpoint saved at epoch 82, loss 0.1114.\n"
     ]
    },
    {
     "name": "stderr",
     "output_type": "stream",
     "text": [
      "Epoch [83/100]: 100%|██████████| 413/413 [01:25<00:00,  4.83it/s, loss=0.00443]\n"
     ]
    },
    {
     "name": "stdout",
     "output_type": "stream",
     "text": [
      "Checkpoint saved at epoch 83, loss 0.1101.\n"
     ]
    },
    {
     "name": "stderr",
     "output_type": "stream",
     "text": [
      "Epoch [84/100]: 100%|██████████| 413/413 [01:26<00:00,  4.80it/s, loss=0.32]  \n"
     ]
    },
    {
     "name": "stdout",
     "output_type": "stream",
     "text": [
      "Checkpoint saved at epoch 84, loss 0.1113.\n"
     ]
    },
    {
     "name": "stderr",
     "output_type": "stream",
     "text": [
      "Epoch [85/100]: 100%|██████████| 413/413 [01:25<00:00,  4.81it/s, loss=0.0029]\n"
     ]
    },
    {
     "name": "stdout",
     "output_type": "stream",
     "text": [
      "Checkpoint saved at epoch 85, loss 0.1085.\n"
     ]
    },
    {
     "name": "stderr",
     "output_type": "stream",
     "text": [
      "Epoch [86/100]: 100%|██████████| 413/413 [01:27<00:00,  4.70it/s, loss=0.134] \n"
     ]
    },
    {
     "name": "stdout",
     "output_type": "stream",
     "text": [
      "Checkpoint saved at epoch 86, loss 0.1069.\n"
     ]
    },
    {
     "name": "stderr",
     "output_type": "stream",
     "text": [
      "Epoch [87/100]: 100%|██████████| 413/413 [01:27<00:00,  4.74it/s, loss=0.127] \n"
     ]
    },
    {
     "name": "stdout",
     "output_type": "stream",
     "text": [
      "Checkpoint saved at epoch 87, loss 0.1108.\n"
     ]
    },
    {
     "name": "stderr",
     "output_type": "stream",
     "text": [
      "Epoch [88/100]: 100%|██████████| 413/413 [01:26<00:00,  4.77it/s, loss=0.114] \n"
     ]
    },
    {
     "name": "stdout",
     "output_type": "stream",
     "text": [
      "Checkpoint saved at epoch 88, loss 0.1107.\n"
     ]
    },
    {
     "name": "stderr",
     "output_type": "stream",
     "text": [
      "Epoch [89/100]: 100%|██████████| 413/413 [01:27<00:00,  4.71it/s, loss=0.137] \n"
     ]
    },
    {
     "name": "stdout",
     "output_type": "stream",
     "text": [
      "Checkpoint saved at epoch 89, loss 0.1089.\n"
     ]
    },
    {
     "name": "stderr",
     "output_type": "stream",
     "text": [
      "Epoch [90/100]: 100%|██████████| 413/413 [01:28<00:00,  4.68it/s, loss=0.0495]\n"
     ]
    },
    {
     "name": "stdout",
     "output_type": "stream",
     "text": [
      "Checkpoint saved at epoch 90, loss 0.1076.\n"
     ]
    },
    {
     "name": "stderr",
     "output_type": "stream",
     "text": [
      "Epoch [91/100]: 100%|██████████| 413/413 [01:29<00:00,  4.63it/s, loss=0.0109]\n"
     ]
    },
    {
     "name": "stdout",
     "output_type": "stream",
     "text": [
      "Checkpoint saved at epoch 91, loss 0.1056.\n"
     ]
    },
    {
     "name": "stderr",
     "output_type": "stream",
     "text": [
      "Epoch [92/100]: 100%|██████████| 413/413 [01:27<00:00,  4.71it/s, loss=0.119] \n"
     ]
    },
    {
     "name": "stdout",
     "output_type": "stream",
     "text": [
      "Checkpoint saved at epoch 92, loss 0.1051.\n"
     ]
    },
    {
     "name": "stderr",
     "output_type": "stream",
     "text": [
      "Epoch [93/100]: 100%|██████████| 413/413 [01:27<00:00,  4.72it/s, loss=0.387] \n"
     ]
    },
    {
     "name": "stdout",
     "output_type": "stream",
     "text": [
      "Checkpoint saved at epoch 93, loss 0.1072.\n"
     ]
    },
    {
     "name": "stderr",
     "output_type": "stream",
     "text": [
      "Epoch [94/100]: 100%|██████████| 413/413 [01:27<00:00,  4.73it/s, loss=0.0169]\n"
     ]
    },
    {
     "name": "stdout",
     "output_type": "stream",
     "text": [
      "Checkpoint saved at epoch 94, loss 0.1061.\n"
     ]
    },
    {
     "name": "stderr",
     "output_type": "stream",
     "text": [
      "Epoch [95/100]: 100%|██████████| 413/413 [01:27<00:00,  4.73it/s, loss=0.000623]\n"
     ]
    },
    {
     "name": "stdout",
     "output_type": "stream",
     "text": [
      "Checkpoint saved at epoch 95, loss 0.1033.\n"
     ]
    },
    {
     "name": "stderr",
     "output_type": "stream",
     "text": [
      "Epoch [96/100]: 100%|██████████| 413/413 [01:25<00:00,  4.82it/s, loss=0.681] \n"
     ]
    },
    {
     "name": "stdout",
     "output_type": "stream",
     "text": [
      "Checkpoint saved at epoch 96, loss 0.1074.\n"
     ]
    },
    {
     "name": "stderr",
     "output_type": "stream",
     "text": [
      "Epoch [97/100]: 100%|██████████| 413/413 [01:38<00:00,  4.21it/s, loss=0.00199]\n"
     ]
    },
    {
     "name": "stdout",
     "output_type": "stream",
     "text": [
      "Checkpoint saved at epoch 97, loss 0.1086.\n"
     ]
    },
    {
     "name": "stderr",
     "output_type": "stream",
     "text": [
      "Epoch [98/100]: 100%|██████████| 413/413 [01:06<00:00,  6.21it/s, loss=0.103] \n"
     ]
    },
    {
     "name": "stdout",
     "output_type": "stream",
     "text": [
      "Checkpoint saved at epoch 98, loss 0.1030.\n"
     ]
    },
    {
     "name": "stderr",
     "output_type": "stream",
     "text": [
      "Epoch [99/100]: 100%|██████████| 413/413 [00:57<00:00,  7.14it/s, loss=0.00126]\n"
     ]
    },
    {
     "name": "stdout",
     "output_type": "stream",
     "text": [
      "Checkpoint saved at epoch 99, loss 0.1013.\n"
     ]
    },
    {
     "name": "stderr",
     "output_type": "stream",
     "text": [
      "Epoch [100/100]: 100%|██████████| 413/413 [00:57<00:00,  7.20it/s, loss=0.0111]\n"
     ]
    },
    {
     "name": "stdout",
     "output_type": "stream",
     "text": [
      "Checkpoint saved at epoch 100, loss 0.1017.\n"
     ]
    }
   ],
   "source": [
    "train(model, train_loader, optimizer, criterion, start_epoch=start_epoch)"
   ]
  },
  {
   "cell_type": "code",
   "execution_count": 51,
   "id": "2701b1d6",
   "metadata": {},
   "outputs": [],
   "source": [
    "def translate_sentence(model, sentence, en_vocab, hi_vocab, max_len=50):\n",
    "    model.eval()\n",
    "    tokens = encode_sentence(sentence, en_vocab, max_len=max_len)\n",
    "    src_tensor = torch.tensor(tokens).unsqueeze(0).to(DEVICE)\n",
    "\n",
    "    tgt_tokens = [hi_vocab[\"<sos>\"]]\n",
    "    for _ in range(max_len):\n",
    "        tgt_tensor = torch.tensor(tgt_tokens).unsqueeze(0).to(DEVICE)\n",
    "        with torch.no_grad():\n",
    "            output = model(src_tensor, tgt_tensor, SRC_PAD_IDX, TGT_PAD_IDX)\n",
    "        next_token = output[0, -1].argmax().item()\n",
    "        tgt_tokens.append(next_token)\n",
    "        if next_token == hi_vocab[\"<eos>\"]:\n",
    "            break\n",
    "\n",
    "    translated = [hi_vocab.itos[idx] for idx in tgt_tokens[1:-1]]\n",
    "    return ' '.join(translated)"
   ]
  },
  {
   "cell_type": "code",
   "execution_count": 52,
   "id": "215d4e86",
   "metadata": {},
   "outputs": [],
   "source": [
    "example_sentences = [\n",
    "    \"I love you.\",\n",
    "    \"What is your name?\",\n",
    "    \"How are you?\",\n",
    "    \"The weather is nice today.\",\n",
    "    \"She is a good teacher.\"\n",
    "]"
   ]
  },
  {
   "cell_type": "code",
   "execution_count": 53,
   "id": "689dd447",
   "metadata": {},
   "outputs": [
    {
     "name": "stdout",
     "output_type": "stream",
     "text": [
      "\n",
      "🗣 English: I love you.\n",
      "🇮🇳 Hindi: मैं तुमसे प्यार करता हूँ।\n",
      "\n",
      "🗣 English: What is your name?\n",
      "🇮🇳 Hindi: तुम्हारा नाम क्या है?\n",
      "\n",
      "🗣 English: How are you?\n",
      "🇮🇳 Hindi: आप कैसे हैं?\n",
      "\n",
      "🗣 English: The weather is nice today.\n",
      "🇮🇳 Hindi: आज मौसम अच्छा है।\n",
      "\n",
      "🗣 English: She is a good teacher.\n",
      "🇮🇳 Hindi: वह एक अच्छी अध्यापिका है.\n"
     ]
    }
   ],
   "source": [
    "for sentence in example_sentences:\n",
    "    translation = translate_sentence(model, sentence, en_vocab, hi_vocab)\n",
    "    print(f\"\\n🗣 English: {sentence}\")\n",
    "    print(f\"🇮🇳 Hindi: {translation}\")"
   ]
  },
  {
   "cell_type": "code",
   "execution_count": 54,
   "id": "bf107526",
   "metadata": {},
   "outputs": [],
   "source": [
    "import nltk\n",
    "from nltk.translate.bleu_score import sentence_bleu, corpus_bleu, SmoothingFunction"
   ]
  },
  {
   "cell_type": "code",
   "execution_count": 55,
   "id": "9e712312",
   "metadata": {},
   "outputs": [],
   "source": [
    "smoothie = SmoothingFunction().method4"
   ]
  },
  {
   "cell_type": "code",
   "execution_count": 56,
   "id": "27710507",
   "metadata": {},
   "outputs": [],
   "source": [
    "def evaluate_bleu_nltk(model, dataset, en_vocab, hi_vocab, max_len=50):\n",
    "    references = []\n",
    "    hypotheses = []\n",
    "\n",
    "    for en_sentence, hi_sentence in dataset:\n",
    "        pred = translate_sentence(model, en_sentence, en_vocab, hi_vocab, max_len)\n",
    "        pred_tokens = pred.split()\n",
    "        ref_tokens = hi_sentence.split()\n",
    "\n",
    "        references.append([ref_tokens])   # list of reference lists\n",
    "        hypotheses.append(pred_tokens)    # list of predicted tokens\n",
    "\n",
    "    score = corpus_bleu(references, hypotheses, smoothing_function=smoothie)\n",
    "    print(f\"🌐 BLEU Score (NLTK): {score * 100:.2f}\")\n",
    "    return score"
   ]
  },
  {
   "cell_type": "code",
   "execution_count": 57,
   "id": "e7e9740e",
   "metadata": {},
   "outputs": [],
   "source": [
    "val_dataset = [\n",
    "    (\"I love you.\", \"मैं तुमसे प्यार करता हूँ।\"),\n",
    "    (\"How are you?\", \"आप कैसे हैं?\"),\n",
    "    (\"You should sleep.\", \"आपको सोना चाहिए।\"),\n",
    "    (\"Maybe Tom doesn't love you.\", \"टॉम शायद तुमसे प्यार नहीं करता है।\"),\n",
    "    (\"Let me tell Tom.\",\"मुझे टॉम को बताने दीजिए।\")\n",
    "]"
   ]
  },
  {
   "cell_type": "code",
   "execution_count": 58,
   "id": "088593e8",
   "metadata": {},
   "outputs": [
    {
     "name": "stdout",
     "output_type": "stream",
     "text": [
      "🌐 BLEU Score (NLTK): 77.88\n"
     ]
    },
    {
     "data": {
      "text/plain": [
       "0.7788079465921698"
      ]
     },
     "execution_count": 58,
     "metadata": {},
     "output_type": "execute_result"
    }
   ],
   "source": [
    "evaluate_bleu_nltk(model, val_dataset, en_vocab, hi_vocab)"
   ]
  },
  {
   "cell_type": "code",
   "execution_count": 59,
   "id": "d1c28f40",
   "metadata": {},
   "outputs": [
    {
     "name": "stdout",
     "output_type": "stream",
     "text": [
      "✅ Model and vocabs saved.\n"
     ]
    }
   ],
   "source": [
    "# Save the model weights\n",
    "torch.save(model.state_dict(), \"transformer_translation_final.pth\")\n",
    "\n",
    "# Save vocab mappings (example using pickle)\n",
    "import pickle\n",
    "with open(\"en_vocab.pkl\", \"wb\") as f:\n",
    "    pickle.dump(en_vocab, f)\n",
    "\n",
    "with open(\"hi_vocab.pkl\", \"wb\") as f:\n",
    "    pickle.dump(hi_vocab, f)\n",
    "\n",
    "print(\"✅ Model and vocabs saved.\")"
   ]
  },
  {
   "cell_type": "code",
   "execution_count": null,
   "id": "ec285324",
   "metadata": {},
   "outputs": [],
   "source": []
  }
 ],
 "metadata": {
  "kernelspec": {
   "display_name": "pytorch-gpu",
   "language": "python",
   "name": "python3"
  },
  "language_info": {
   "codemirror_mode": {
    "name": "ipython",
    "version": 3
   },
   "file_extension": ".py",
   "mimetype": "text/x-python",
   "name": "python",
   "nbconvert_exporter": "python",
   "pygments_lexer": "ipython3",
   "version": "3.10.16"
  }
 },
 "nbformat": 4,
 "nbformat_minor": 5
}
